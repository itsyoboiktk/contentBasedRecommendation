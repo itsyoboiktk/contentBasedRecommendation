{
 "cells": [
  {
   "cell_type": "code",
   "execution_count": 7,
   "id": "4c8558c8",
   "metadata": {},
   "outputs": [],
   "source": [
    "import pandas as pd\n",
    "import numpy as np\n",
    "from sklearn.feature_extraction.text import TfidfVectorizer\n",
    "from sklearn.metrics.pairwise import linear_kernel"
   ]
  },
  {
   "cell_type": "code",
   "execution_count": 19,
   "id": "3a5f5d00",
   "metadata": {},
   "outputs": [],
   "source": [
    "dfShoes = pd.read_csv(\"Shoes_Data.csv\")"
   ]
  },
  {
   "cell_type": "code",
   "execution_count": 10,
   "id": "e7f172c1",
   "metadata": {},
   "outputs": [
    {
     "data": {
      "text/html": [
       "<div>\n",
       "<style scoped>\n",
       "    .dataframe tbody tr th:only-of-type {\n",
       "        vertical-align: middle;\n",
       "    }\n",
       "\n",
       "    .dataframe tbody tr th {\n",
       "        vertical-align: top;\n",
       "    }\n",
       "\n",
       "    .dataframe thead th {\n",
       "        text-align: right;\n",
       "    }\n",
       "</style>\n",
       "<table border=\"1\" class=\"dataframe\">\n",
       "  <thead>\n",
       "    <tr style=\"text-align: right;\">\n",
       "      <th></th>\n",
       "      <th>title</th>\n",
       "      <th>price</th>\n",
       "      <th>rating</th>\n",
       "      <th>total_reviews</th>\n",
       "      <th>product_description</th>\n",
       "      <th>reviews</th>\n",
       "      <th>reviews_rating</th>\n",
       "      <th>Shoe Type</th>\n",
       "    </tr>\n",
       "  </thead>\n",
       "  <tbody>\n",
       "    <tr>\n",
       "      <th>0</th>\n",
       "      <td>CLYMB Outdoor Sports Running Shoes for Mens Boy</td>\n",
       "      <td>₹279.00</td>\n",
       "      <td>2.9 out of 5 stars</td>\n",
       "      <td>2389 ratings</td>\n",
       "      <td>Elevate your style with this classy pair of Ru...</td>\n",
       "      <td>Not happy with product|| It's not as expected....</td>\n",
       "      <td>1.0 out of 5 stars|| 1.0 out of 5 stars|| 3.0 ...</td>\n",
       "      <td>Men</td>\n",
       "    </tr>\n",
       "    <tr>\n",
       "      <th>1</th>\n",
       "      <td>Bourge Men's Loire-z126 Running Shoes</td>\n",
       "      <td>₹479.00</td>\n",
       "      <td>3.9 out of 5 stars</td>\n",
       "      <td>11520 ratings</td>\n",
       "      <td>The product will be an excellent pick for you....</td>\n",
       "      <td>Memory cushioning in these shoes is the best f...</td>\n",
       "      <td>5.0 out of 5 stars|| 1.0 out of 5 stars|| 5.0 ...</td>\n",
       "      <td>Men</td>\n",
       "    </tr>\n",
       "    <tr>\n",
       "      <th>2</th>\n",
       "      <td>T-Rock Men's Sneaker</td>\n",
       "      <td>₹430.00</td>\n",
       "      <td>3.3 out of 5 stars</td>\n",
       "      <td>1251 ratings</td>\n",
       "      <td>Flaunt with these stylish and unique red casua...</td>\n",
       "      <td>Worth to its amount|| Go for it|| Perfect|| 5 ...</td>\n",
       "      <td>5.0 out of 5 stars|| 5.0 out of 5 stars|| 5.0 ...</td>\n",
       "      <td>Men</td>\n",
       "    </tr>\n",
       "    <tr>\n",
       "      <th>3</th>\n",
       "      <td>Robbie jones Sneakers Casual Canvas Fabric Col...</td>\n",
       "      <td>₹499.00</td>\n",
       "      <td>4.2 out of 5 stars</td>\n",
       "      <td>3 ratings</td>\n",
       "      <td>Robbie Jones Shoes Are Designed To Keeping In ...</td>\n",
       "      <td>Sup quality|| Good but not expected|| Awesome 👌.!</td>\n",
       "      <td>5.0 out of 5 stars|| 3.0 out of 5 stars|| 5.0 ...</td>\n",
       "      <td>Men</td>\n",
       "    </tr>\n",
       "    <tr>\n",
       "      <th>4</th>\n",
       "      <td>Sparx Men's Sd0323g Sneakers</td>\n",
       "      <td>₹499.00</td>\n",
       "      <td>4.2 out of 5 stars</td>\n",
       "      <td>20110 ratings</td>\n",
       "      <td>Sparx is a spectacular range of footwear from ...</td>\n",
       "      <td>Best|| Satisfied!|| Affordable beauty 😘😘😘😘 the...</td>\n",
       "      <td>5.0 out of 5 stars|| 5.0 out of 5 stars|| 5.0 ...</td>\n",
       "      <td>Men</td>\n",
       "    </tr>\n",
       "  </tbody>\n",
       "</table>\n",
       "</div>"
      ],
      "text/plain": [
       "                                               title    price  \\\n",
       "0    CLYMB Outdoor Sports Running Shoes for Mens Boy  ₹279.00   \n",
       "1              Bourge Men's Loire-z126 Running Shoes  ₹479.00   \n",
       "2                               T-Rock Men's Sneaker  ₹430.00   \n",
       "3  Robbie jones Sneakers Casual Canvas Fabric Col...  ₹499.00   \n",
       "4                       Sparx Men's Sd0323g Sneakers  ₹499.00   \n",
       "\n",
       "               rating  total_reviews  \\\n",
       "0  2.9 out of 5 stars   2389 ratings   \n",
       "1  3.9 out of 5 stars  11520 ratings   \n",
       "2  3.3 out of 5 stars   1251 ratings   \n",
       "3  4.2 out of 5 stars      3 ratings   \n",
       "4  4.2 out of 5 stars  20110 ratings   \n",
       "\n",
       "                                 product_description  \\\n",
       "0  Elevate your style with this classy pair of Ru...   \n",
       "1  The product will be an excellent pick for you....   \n",
       "2  Flaunt with these stylish and unique red casua...   \n",
       "3  Robbie Jones Shoes Are Designed To Keeping In ...   \n",
       "4  Sparx is a spectacular range of footwear from ...   \n",
       "\n",
       "                                             reviews  \\\n",
       "0  Not happy with product|| It's not as expected....   \n",
       "1  Memory cushioning in these shoes is the best f...   \n",
       "2  Worth to its amount|| Go for it|| Perfect|| 5 ...   \n",
       "3  Sup quality|| Good but not expected|| Awesome 👌.!   \n",
       "4  Best|| Satisfied!|| Affordable beauty 😘😘😘😘 the...   \n",
       "\n",
       "                                      reviews_rating Shoe Type  \n",
       "0  1.0 out of 5 stars|| 1.0 out of 5 stars|| 3.0 ...       Men  \n",
       "1  5.0 out of 5 stars|| 1.0 out of 5 stars|| 5.0 ...       Men  \n",
       "2  5.0 out of 5 stars|| 5.0 out of 5 stars|| 5.0 ...       Men  \n",
       "3  5.0 out of 5 stars|| 3.0 out of 5 stars|| 5.0 ...       Men  \n",
       "4  5.0 out of 5 stars|| 5.0 out of 5 stars|| 5.0 ...       Men  "
      ]
     },
     "execution_count": 10,
     "metadata": {},
     "output_type": "execute_result"
    }
   ],
   "source": [
    "dfShoes.head()"
   ]
  },
  {
   "cell_type": "code",
   "execution_count": 11,
   "id": "4461264f",
   "metadata": {},
   "outputs": [
    {
     "data": {
      "text/plain": [
       "0       Elevate your style with this classy pair of Ru...\n",
       "1       The product will be an excellent pick for you....\n",
       "2       Flaunt with these stylish and unique red casua...\n",
       "3       Robbie Jones Shoes Are Designed To Keeping In ...\n",
       "4       Sparx is a spectacular range of footwear from ...\n",
       "                              ...                        \n",
       "1225    The Nike react vision is a STORY of surreal co...\n",
       "1226    The B.O.G limitless is Puma's key style for th...\n",
       "1227    Lead the pack in New Balance’s Echolucent snea...\n",
       "1228    Nike మహిళల రన్నింగ్ షూ ఫీల్స్ మరియు రూపం మృదువ...\n",
       "1229    The GT-2000 7 achieves a reassuringly firm rid...\n",
       "Name: product_description, Length: 1230, dtype: object"
      ]
     },
     "execution_count": 11,
     "metadata": {},
     "output_type": "execute_result"
    }
   ],
   "source": [
    "dfShoes['product_description']"
   ]
  },
  {
   "cell_type": "code",
   "execution_count": 12,
   "id": "508db0cc",
   "metadata": {},
   "outputs": [],
   "source": [
    "tfidf = TfidfVectorizer(stop_words=\"english\")\n",
    "dfShoes['product_description'] = dfShoes['product_description'].fillna(\"\")\n",
    "tfidf_matrix = tfidf.fit_transform(dfShoes['product_description'])"
   ]
  },
  {
   "cell_type": "code",
   "execution_count": 33,
   "id": "ef0f9d15",
   "metadata": {},
   "outputs": [
    {
     "name": "stdout",
     "output_type": "stream",
     "text": [
      "[[1.         0.         0.10983375 ... 0.00810756 0.00816093 0.02024362]\n",
      " [0.         1.         0.         ... 0.         0.         0.        ]\n",
      " [0.10983375 0.         1.         ... 0.02104758 0.00518413 0.01038312]\n",
      " ...\n",
      " [0.00810756 0.         0.02104758 ... 1.         0.01195055 0.01970824]\n",
      " [0.00816093 0.         0.00518413 ... 0.01195055 1.         0.00288827]\n",
      " [0.02024362 0.         0.01038312 ... 0.01970824 0.00288827 1.        ]]\n"
     ]
    }
   ],
   "source": [
    "cosine_sim = linear_kernel(tfidf_matrix,tfidf_matrix) #I think it basically find out similaitry of each\n",
    "                                                      #number with other matrix number\n",
    "print(cosine_sim)"
   ]
  },
  {
   "cell_type": "code",
   "execution_count": 14,
   "id": "c77b1c0f",
   "metadata": {},
   "outputs": [
    {
     "data": {
      "text/plain": [
       "0      CLYMB Outdoor Sports Running Shoes for Mens Boy\n",
       "1                Bourge Men's Loire-z126 Running Shoes\n",
       "2                                 T-Rock Men's Sneaker\n",
       "3    Robbie jones Sneakers Casual Canvas Fabric Col...\n",
       "4                         Sparx Men's Sd0323g Sneakers\n",
       "Name: title, dtype: object"
      ]
     },
     "execution_count": 14,
     "metadata": {},
     "output_type": "execute_result"
    }
   ],
   "source": [
    "dfShoes.head()['title']"
   ]
  },
  {
   "cell_type": "code",
   "execution_count": 15,
   "id": "ee6f34fd",
   "metadata": {
    "scrolled": true
   },
   "outputs": [
    {
     "data": {
      "text/plain": [
       "title\n",
       "CLYMB Outdoor Sports Running Shoes for Mens Boy                                0\n",
       "Bourge Men's Loire-z126 Running Shoes                                          1\n",
       "T-Rock Men's Sneaker                                                           2\n",
       "Robbie jones Sneakers Casual Canvas Fabric Colour Shoes for Men and Boys       3\n",
       "Sparx Men's Sd0323g Sneakers                                                   4\n",
       "                                                                            ... \n",
       "Nike Men's React Vision Running Shoes                                       1225\n",
       "Puma Men's B.O.G Limitless Hi Evoknit Sneakers                              1226\n",
       "new balance Women's FuelCell Echolucent Running Shoe                        1227\n",
       "Nike Women's WMNS Air Zoom Pegasus 37 Running Shoe                          1228\n",
       "ASICS Women Gt-2000 7 Lite-Show Running Shoes                               1229\n",
       "Length: 1230, dtype: int64"
      ]
     },
     "execution_count": 15,
     "metadata": {},
     "output_type": "execute_result"
    }
   ],
   "source": [
    "nums = pd.Series(dfShoes.index, index=dfShoes['title']).drop_duplicates()\n",
    "nums #an array is created with all the shoes and its respective index"
   ]
  },
  {
   "cell_type": "code",
   "execution_count": 31,
   "id": "b171b2c2",
   "metadata": {},
   "outputs": [],
   "source": [
    "def get_recomd(title, cosine_sim = cosine_sim):\n",
    "  idx = nums[title]\n",
    "  print(idx)\n",
    "  sim_score = enumerate(cosine_sim[idx]) #enumeration gives us the index of the respective score\n",
    "  sim_score = sorted(sim_score, key = lambda x: x[1], reverse=True) #sorting in reverse order so the most\n",
    "                                                                    #matched score is printed first \n",
    "  sim_score = sim_score[1:11]\n",
    "  for i in sim_score:\n",
    "    print(i)\n",
    "  sim_idx = [i[0] for i in sim_score]\n",
    "  print(dfShoes['title'].iloc[sim_idx])"
   ]
  },
  {
   "cell_type": "code",
   "execution_count": 32,
   "id": "fa4d49de",
   "metadata": {},
   "outputs": [
    {
     "name": "stdout",
     "output_type": "stream",
     "text": [
      "Which Shoe do you want?: T-Rock Men's Sneaker\n",
      "2\n",
      "(10, 1.0)\n",
      "(11, 1.0)\n",
      "(27, 1.0)\n",
      "(32, 1.0)\n",
      "(35, 1.0)\n",
      "(277, 0.7976770220339177)\n",
      "(161, 0.6716478496477891)\n",
      "(122, 0.6350763784446628)\n",
      "(75, 0.5751653445454432)\n",
      "(147, 0.37301415774199903)\n",
      "10                             T-Rock Men's Sports Shoes\n",
      "11              T-Rock Men's Sneaker Casual Shoes (White\n",
      "27                  T-Rock Men's Navy Blue Running Shoes\n",
      "32        T-Rock Socks Light Weight Sports Running Shoes\n",
      "35              T-Rock Men's Casual Loafers for Men (Tan\n",
      "277    D'USE Men's Stylish Running & Casual Shoes (Pa...\n",
      "161    Maddy Men's Combo Pack of Shoes Sandal and Sli...\n",
      "122    Maddy Running ShoesTraining ShoesGym ShoesSpor...\n",
      "75                                   Clymb Men's Sneaker\n",
      "147                           Sparx Men's White Sneakers\n",
      "Name: title, dtype: object\n"
     ]
    }
   ],
   "source": [
    "shoeName = str(input(\"Which Shoe do you want?: \"))\n",
    "get_recomd(shoeName)"
   ]
  },
  {
   "cell_type": "code",
   "execution_count": null,
   "id": "8db07d08",
   "metadata": {},
   "outputs": [],
   "source": []
  }
 ],
 "metadata": {
  "kernelspec": {
   "display_name": "Python 3 (ipykernel)",
   "language": "python",
   "name": "python3"
  },
  "language_info": {
   "codemirror_mode": {
    "name": "ipython",
    "version": 3
   },
   "file_extension": ".py",
   "mimetype": "text/x-python",
   "name": "python",
   "nbconvert_exporter": "python",
   "pygments_lexer": "ipython3",
   "version": "3.9.7"
  }
 },
 "nbformat": 4,
 "nbformat_minor": 5
}
